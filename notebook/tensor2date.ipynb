{
 "metadata": {
  "language_info": {
   "codemirror_mode": {
    "name": "ipython",
    "version": 3
   },
   "file_extension": ".py",
   "mimetype": "text/x-python",
   "name": "python",
   "nbconvert_exporter": "python",
   "pygments_lexer": "ipython3",
   "version": "3.8.5-final"
  },
  "orig_nbformat": 2,
  "kernelspec": {
   "name": "python3",
   "display_name": "Python 3.8.5 64-bit",
   "metadata": {
    "interpreter": {
     "hash": "767d51c1340bd893661ea55ea3124f6de3c7a262a8b4abca0554b478b1e2ff90"
    }
   }
  }
 },
 "nbformat": 4,
 "nbformat_minor": 2,
 "cells": [
  {
   "cell_type": "code",
   "execution_count": 1,
   "metadata": {},
   "outputs": [],
   "source": [
    "import numpy\n",
    "import pandas\n",
    "import torch"
   ]
  },
  {
   "cell_type": "code",
   "execution_count": 2,
   "metadata": {},
   "outputs": [
    {
     "output_type": "execute_result",
     "data": {
      "text/plain": [
       "DatetimeIndex(['2016-01-01', '2016-01-02', '2016-01-03', '2016-01-04',\n",
       "               '2016-01-05', '2016-01-06', '2016-01-07', '2016-01-08',\n",
       "               '2016-01-09', '2016-01-10',\n",
       "               ...\n",
       "               '2018-12-22', '2018-12-23', '2018-12-24', '2018-12-25',\n",
       "               '2018-12-26', '2018-12-27', '2018-12-28', '2018-12-29',\n",
       "               '2018-12-30', '2018-12-31'],\n",
       "              dtype='datetime64[ns]', length=1096, freq='D')"
      ]
     },
     "metadata": {},
     "execution_count": 2
    }
   ],
   "source": [
    "index_date = pandas.date_range(\"2016-01-01\", \"2018-12-31\")\n",
    "index_date"
   ]
  },
  {
   "cell_type": "code",
   "execution_count": 3,
   "metadata": {},
   "outputs": [
    {
     "output_type": "execute_result",
     "data": {
      "text/plain": [
       "0    1451606400000000000\n",
       "1    1451692800000000000\n",
       "2    1451779200000000000\n",
       "3    1451865600000000000\n",
       "4    1451952000000000000\n",
       "Name: time_index, dtype: int64"
      ]
     },
     "metadata": {},
     "execution_count": 3
    }
   ],
   "source": [
    "df = pandas.DataFrame([])\n",
    "df[\"time_index\"] = index_date.astype(numpy.int64)\n",
    "df.time_index[:5]"
   ]
  },
  {
   "cell_type": "code",
   "execution_count": 4,
   "metadata": {},
   "outputs": [
    {
     "output_type": "execute_result",
     "data": {
      "text/plain": [
       "0   2016-01-01\n",
       "1   2016-01-02\n",
       "2   2016-01-03\n",
       "3   2016-01-04\n",
       "4   2016-01-05\n",
       "Name: time_index, dtype: datetime64[ns]"
      ]
     },
     "metadata": {},
     "execution_count": 4
    }
   ],
   "source": [
    "pandas.to_datetime(df.time_index)[:5]"
   ]
  },
  {
   "cell_type": "code",
   "execution_count": 5,
   "metadata": {},
   "outputs": [
    {
     "output_type": "execute_result",
     "data": {
      "text/plain": [
       "DatetimeIndex(['2016-01-01 00:00:49.632313344',\n",
       "               '2016-01-01 23:59:21.295093760',\n",
       "               '2016-01-03 00:00:10.396827648',\n",
       "               '2016-01-04 00:00:59.498561536',\n",
       "               '2016-01-04 23:59:31.161341952',\n",
       "               '2016-01-06 00:00:20.263075840',\n",
       "               '2016-01-06 23:58:51.925856256',\n",
       "               '2016-01-07 23:59:41.027590144',\n",
       "               '2016-01-09 00:00:30.129324032',\n",
       "               '2016-01-09 23:59:01.792104448',\n",
       "               '2016-01-10 23:59:50.893838336',\n",
       "               '2016-01-12 00:00:39.995572224',\n",
       "               '2016-01-12 23:59:11.658352640',\n",
       "               '2016-01-14 00:00:00.760086528',\n",
       "               '2016-01-15 00:00:49.861820416',\n",
       "               '2016-01-15 23:59:21.524600832',\n",
       "               '2016-01-17 00:00:10.626334720',\n",
       "               '2016-01-18 00:00:59.728068608',\n",
       "               '2016-01-18 23:59:31.390849024',\n",
       "               '2016-01-20 00:00:20.492582912'],\n",
       "              dtype='datetime64[ns]', freq=None)"
      ]
     },
     "metadata": {},
     "execution_count": 5
    }
   ],
   "source": [
    "pandas.to_datetime(torch.Tensor(df.time_index))[:20]"
   ]
  },
  {
   "cell_type": "code",
   "execution_count": 6,
   "metadata": {},
   "outputs": [],
   "source": [
    "import datetime\n",
    "\n",
    "\n",
    "def to_date(ti: numpy.array):\n",
    "    _ti = pandas.to_datetime(ti)\n",
    "    ti_ser = pandas.Series(_ti, name=\"time_index\")\n",
    "\n",
    "    def _adjust_date(ts):\n",
    "        dte = ts.to_pydatetime()\n",
    "        dte += datetime.timedelta(minutes=3)\n",
    "        return datetime.datetime(year=dte.year, month=dte.month, day=dte.day, hour=0, minute=0, second=0)\n",
    "\n",
    "    return ti_ser.apply(_adjust_date)\n"
   ]
  },
  {
   "cell_type": "code",
   "execution_count": 7,
   "metadata": {},
   "outputs": [
    {
     "output_type": "execute_result",
     "data": {
      "text/plain": [
       "0   2016-01-01\n",
       "1   2016-01-02\n",
       "2   2016-01-03\n",
       "3   2016-01-04\n",
       "4   2016-01-05\n",
       "Name: time_index, dtype: datetime64[ns]"
      ]
     },
     "metadata": {},
     "execution_count": 7
    }
   ],
   "source": [
    "ti = to_date(df.time_index)\n",
    "ti.head()\n"
   ]
  },
  {
   "cell_type": "code",
   "execution_count": 8,
   "metadata": {},
   "outputs": [
    {
     "output_type": "execute_result",
     "data": {
      "text/plain": [
       "True"
      ]
     },
     "metadata": {},
     "execution_count": 8
    }
   ],
   "source": [
    "(ti == pandas.to_datetime(df.time_index)).all()"
   ]
  },
  {
   "cell_type": "code",
   "execution_count": 9,
   "metadata": {},
   "outputs": [
    {
     "output_type": "execute_result",
     "data": {
      "text/plain": [
       "0   2016-01-01\n",
       "1   2016-01-02\n",
       "2   2016-01-03\n",
       "3   2016-01-04\n",
       "4   2016-01-05\n",
       "5   2016-01-06\n",
       "6   2016-01-07\n",
       "7   2016-01-08\n",
       "8   2016-01-09\n",
       "9   2016-01-10\n",
       "Name: time_index, dtype: datetime64[ns]"
      ]
     },
     "metadata": {},
     "execution_count": 9
    }
   ],
   "source": [
    "ti_restored = to_date(torch.Tensor(df.time_index))\n",
    "ti_restored.head(10)\n"
   ]
  },
  {
   "cell_type": "code",
   "execution_count": 10,
   "metadata": {},
   "outputs": [
    {
     "output_type": "execute_result",
     "data": {
      "text/plain": [
       "True"
      ]
     },
     "metadata": {},
     "execution_count": 10
    }
   ],
   "source": [
    "(ti == ti_restored).all()"
   ]
  },
  {
   "cell_type": "code",
   "execution_count": null,
   "metadata": {},
   "outputs": [],
   "source": []
  },
  {
   "cell_type": "code",
   "execution_count": 11,
   "metadata": {},
   "outputs": [
    {
     "output_type": "execute_result",
     "data": {
      "text/plain": [
       "True"
      ]
     },
     "metadata": {},
     "execution_count": 11
    }
   ],
   "source": [
    "ti = pandas.to_datetime(df.time_index) \n",
    "ti_torch = torch.tensor(df.time_index) \n",
    "ti_restored = pandas.to_datetime(ti_torch) \n",
    "(ti == ti_restored).all()"
   ]
  },
  {
   "cell_type": "code",
   "execution_count": 12,
   "metadata": {},
   "outputs": [
    {
     "output_type": "execute_result",
     "data": {
      "text/plain": [
       "tensor([1451606400000000000, 1451692800000000000, 1451779200000000000,\n",
       "         ..., 1546041600000000000, 1546128000000000000,\n",
       "        1546214400000000000])"
      ]
     },
     "metadata": {},
     "execution_count": 12
    }
   ],
   "source": [
    "ti_torch"
   ]
  },
  {
   "cell_type": "code",
   "execution_count": 14,
   "metadata": {},
   "outputs": [
    {
     "output_type": "execute_result",
     "data": {
      "text/plain": [
       "tensor([1451606449632313344, 1451692761295093760, 1451779210396827648,\n",
       "         ..., 1546041579196645376, 1546128028298379264,\n",
       "        1546214339961159680])"
      ]
     },
     "metadata": {},
     "execution_count": 14
    }
   ],
   "source": [
    "torch.Tensor(df.time_index).type(torch.int64)"
   ]
  },
  {
   "cell_type": "code",
   "execution_count": 16,
   "metadata": {},
   "outputs": [
    {
     "output_type": "execute_result",
     "data": {
      "text/plain": [
       "True"
      ]
     },
     "metadata": {},
     "execution_count": 16
    }
   ],
   "source": [
    "ti2 = torch.DoubleTensor(df.time_index).type(torch.int64)\n",
    "ti_restored = pandas.to_datetime(ti2)\n",
    "(ti == ti_restored).all()"
   ]
  },
  {
   "cell_type": "code",
   "execution_count": null,
   "metadata": {},
   "outputs": [],
   "source": []
  }
 ]
}