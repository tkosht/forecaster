{
 "metadata": {
  "language_info": {
   "codemirror_mode": {
    "name": "ipython",
    "version": 3
   },
   "file_extension": ".py",
   "mimetype": "text/x-python",
   "name": "python",
   "nbconvert_exporter": "python",
   "pygments_lexer": "ipython3",
   "version": "3.8.5-final"
  },
  "orig_nbformat": 2,
  "kernelspec": {
   "name": "python3",
   "display_name": "Python 3.8.5 64-bit",
   "metadata": {
    "interpreter": {
     "hash": "767d51c1340bd893661ea55ea3124f6de3c7a262a8b4abca0554b478b1e2ff90"
    }
   }
  }
 },
 "nbformat": 4,
 "nbformat_minor": 2,
 "cells": [
  {
   "cell_type": "code",
   "execution_count": 1,
   "metadata": {},
   "outputs": [],
   "source": [
    "import numpy\n",
    "import pandas\n"
   ]
  },
  {
   "cell_type": "code",
   "execution_count": 2,
   "metadata": {},
   "outputs": [
    {
     "output_type": "execute_result",
     "data": {
      "text/plain": [
       "DatetimeIndex(['2016-01-01', '2016-01-02', '2016-01-03', '2016-01-04',\n",
       "               '2016-01-05', '2016-01-06', '2016-01-07', '2016-01-08',\n",
       "               '2016-01-09', '2016-01-10',\n",
       "               ...\n",
       "               '2018-12-22', '2018-12-23', '2018-12-24', '2018-12-25',\n",
       "               '2018-12-26', '2018-12-27', '2018-12-28', '2018-12-29',\n",
       "               '2018-12-30', '2018-12-31'],\n",
       "              dtype='datetime64[ns]', length=1096, freq='D')"
      ]
     },
     "metadata": {},
     "execution_count": 2
    }
   ],
   "source": [
    "index_date = pandas.date_range(\"2016-01-01\", \"2018-12-31\")\n",
    "index_date"
   ]
  },
  {
   "cell_type": "code",
   "execution_count": 3,
   "metadata": {},
   "outputs": [
    {
     "output_type": "execute_result",
     "data": {
      "text/plain": [
       "Int64Index([1451606400000000000, 1451692800000000000, 1451779200000000000,\n",
       "            1451865600000000000, 1451952000000000000, 1452038400000000000,\n",
       "            1452124800000000000, 1452211200000000000, 1452297600000000000,\n",
       "            1452384000000000000,\n",
       "            ...\n",
       "            1545436800000000000, 1545523200000000000, 1545609600000000000,\n",
       "            1545696000000000000, 1545782400000000000, 1545868800000000000,\n",
       "            1545955200000000000, 1546041600000000000, 1546128000000000000,\n",
       "            1546214400000000000],\n",
       "           dtype='int64', length=1096)"
      ]
     },
     "metadata": {},
     "execution_count": 3
    }
   ],
   "source": [
    "index_date.astype(numpy.int32)"
   ]
  },
  {
   "cell_type": "code",
   "execution_count": 4,
   "metadata": {},
   "outputs": [
    {
     "output_type": "execute_result",
     "data": {
      "text/plain": [
       "Int64Index([ 1,  1,  1,  1,  1,  1,  1,  1,  1,  1,\n",
       "            ...\n",
       "            12, 12, 12, 12, 12, 12, 12, 12, 12, 12],\n",
       "           dtype='int64', length=1096)"
      ]
     },
     "metadata": {},
     "execution_count": 4
    }
   ],
   "source": [
    "index_date.month"
   ]
  },
  {
   "cell_type": "code",
   "execution_count": 5,
   "metadata": {},
   "outputs": [
    {
     "output_type": "execute_result",
     "data": {
      "text/plain": [
       "Int64Index([4, 5, 6, 0, 1, 2, 3, 4, 5, 6,\n",
       "            ...\n",
       "            5, 6, 0, 1, 2, 3, 4, 5, 6, 0],\n",
       "           dtype='int64', length=1096)"
      ]
     },
     "metadata": {},
     "execution_count": 5
    }
   ],
   "source": [
    "index_date.weekday"
   ]
  },
  {
   "cell_type": "code",
   "execution_count": 6,
   "metadata": {},
   "outputs": [
    {
     "output_type": "execute_result",
     "data": {
      "text/plain": [
       "            month_1  month_2  month_3  month_4  month_5  month_6  month_7  \\\n",
       "2016-01-01        1        0        0        0        0        0        0   \n",
       "2016-01-02        1        0        0        0        0        0        0   \n",
       "2016-01-03        1        0        0        0        0        0        0   \n",
       "\n",
       "            month_8  month_9  month_10  ...  weekday_4  weekday_5  weekday_6  \\\n",
       "2016-01-01        0        0         0  ...          0          0          0   \n",
       "2016-01-02        0        0         0  ...          0          0          0   \n",
       "2016-01-03        0        0         0  ...          0          0          0   \n",
       "\n",
       "            weekday_7  weekday_8  weekday_9  weekday_10  weekday_11  \\\n",
       "2016-01-01          0          0          0           0           0   \n",
       "2016-01-02          0          0          0           0           0   \n",
       "2016-01-03          0          0          0           0           0   \n",
       "\n",
       "            weekday_12           date_index  \n",
       "2016-01-01           0  1451606400000000000  \n",
       "2016-01-02           0  1451692800000000000  \n",
       "2016-01-03           0  1451779200000000000  \n",
       "\n",
       "[3 rows x 37 columns]"
      ],
      "text/html": "<div>\n<style scoped>\n    .dataframe tbody tr th:only-of-type {\n        vertical-align: middle;\n    }\n\n    .dataframe tbody tr th {\n        vertical-align: top;\n    }\n\n    .dataframe thead th {\n        text-align: right;\n    }\n</style>\n<table border=\"1\" class=\"dataframe\">\n  <thead>\n    <tr style=\"text-align: right;\">\n      <th></th>\n      <th>month_1</th>\n      <th>month_2</th>\n      <th>month_3</th>\n      <th>month_4</th>\n      <th>month_5</th>\n      <th>month_6</th>\n      <th>month_7</th>\n      <th>month_8</th>\n      <th>month_9</th>\n      <th>month_10</th>\n      <th>...</th>\n      <th>weekday_4</th>\n      <th>weekday_5</th>\n      <th>weekday_6</th>\n      <th>weekday_7</th>\n      <th>weekday_8</th>\n      <th>weekday_9</th>\n      <th>weekday_10</th>\n      <th>weekday_11</th>\n      <th>weekday_12</th>\n      <th>date_index</th>\n    </tr>\n  </thead>\n  <tbody>\n    <tr>\n      <th>2016-01-01</th>\n      <td>1</td>\n      <td>0</td>\n      <td>0</td>\n      <td>0</td>\n      <td>0</td>\n      <td>0</td>\n      <td>0</td>\n      <td>0</td>\n      <td>0</td>\n      <td>0</td>\n      <td>...</td>\n      <td>0</td>\n      <td>0</td>\n      <td>0</td>\n      <td>0</td>\n      <td>0</td>\n      <td>0</td>\n      <td>0</td>\n      <td>0</td>\n      <td>0</td>\n      <td>1451606400000000000</td>\n    </tr>\n    <tr>\n      <th>2016-01-02</th>\n      <td>1</td>\n      <td>0</td>\n      <td>0</td>\n      <td>0</td>\n      <td>0</td>\n      <td>0</td>\n      <td>0</td>\n      <td>0</td>\n      <td>0</td>\n      <td>0</td>\n      <td>...</td>\n      <td>0</td>\n      <td>0</td>\n      <td>0</td>\n      <td>0</td>\n      <td>0</td>\n      <td>0</td>\n      <td>0</td>\n      <td>0</td>\n      <td>0</td>\n      <td>1451692800000000000</td>\n    </tr>\n    <tr>\n      <th>2016-01-03</th>\n      <td>1</td>\n      <td>0</td>\n      <td>0</td>\n      <td>0</td>\n      <td>0</td>\n      <td>0</td>\n      <td>0</td>\n      <td>0</td>\n      <td>0</td>\n      <td>0</td>\n      <td>...</td>\n      <td>0</td>\n      <td>0</td>\n      <td>0</td>\n      <td>0</td>\n      <td>0</td>\n      <td>0</td>\n      <td>0</td>\n      <td>0</td>\n      <td>0</td>\n      <td>1451779200000000000</td>\n    </tr>\n  </tbody>\n</table>\n<p>3 rows × 37 columns</p>\n</div>"
     },
     "metadata": {},
     "execution_count": 6
    }
   ],
   "source": [
    "def get_datedata(start=\"2016-01-01\", end=\"2018-12-31\"):\n",
    "    _df = pandas.DataFrame([])\n",
    "    index_date = pandas.date_range(start, end)\n",
    "    _df[\"month\"] = index_date.month\n",
    "    _df[\"weekth\"] = index_date.week\n",
    "    _df[\"weekday\"] = index_date.weekday\n",
    "    _df.month = _df.month.astype(\"category\")\n",
    "    _df.weekth = _df.month.astype(\"category\")\n",
    "    _df.weekday = _df.month.astype(\"category\")\n",
    "    df = pandas.get_dummies(_df, [\"month\", \"weekth\", \"weekday\"])\n",
    "    df.index = index_date\n",
    "    df[\"date_index\"] = index_date.astype(numpy.int64)\n",
    "    return df\n",
    "\n",
    "df = get_datedata()\n",
    "df.head(3)\n",
    "\n"
   ]
  },
  {
   "cell_type": "code",
   "execution_count": null,
   "metadata": {},
   "outputs": [],
   "source": []
  },
  {
   "cell_type": "code",
   "execution_count": 16,
   "metadata": {},
   "outputs": [
    {
     "output_type": "execute_result",
     "data": {
      "text/plain": [
       "            date_index\n",
       "0  1451606400000000000\n",
       "1  1451692800000000000\n",
       "2  1451779200000000000\n",
       "3  1451865600000000000\n",
       "4  1451952000000000000"
      ],
      "text/html": "<div>\n<style scoped>\n    .dataframe tbody tr th:only-of-type {\n        vertical-align: middle;\n    }\n\n    .dataframe tbody tr th {\n        vertical-align: top;\n    }\n\n    .dataframe thead th {\n        text-align: right;\n    }\n</style>\n<table border=\"1\" class=\"dataframe\">\n  <thead>\n    <tr style=\"text-align: right;\">\n      <th></th>\n      <th>date_index</th>\n    </tr>\n  </thead>\n  <tbody>\n    <tr>\n      <th>0</th>\n      <td>1451606400000000000</td>\n    </tr>\n    <tr>\n      <th>1</th>\n      <td>1451692800000000000</td>\n    </tr>\n    <tr>\n      <th>2</th>\n      <td>1451779200000000000</td>\n    </tr>\n    <tr>\n      <th>3</th>\n      <td>1451865600000000000</td>\n    </tr>\n    <tr>\n      <th>4</th>\n      <td>1451952000000000000</td>\n    </tr>\n  </tbody>\n</table>\n</div>"
     },
     "metadata": {},
     "execution_count": 16
    }
   ],
   "source": [
    "def get_datedata(start=\"2016-01-01\", end=\"2018-12-31\"):\n",
    "    df = pandas.DataFrame([])\n",
    "    index_date = pandas.date_range(start, end)\n",
    "    df[\"date_index\"] = index_date.astype(numpy.int64)\n",
    "    return df\n",
    "\n",
    "df = get_datedata()\n",
    "df.head()\n"
   ]
  },
  {
   "cell_type": "code",
   "execution_count": 7,
   "metadata": {
    "tags": []
   },
   "outputs": [],
   "source": [
    "import torch\n",
    "def generate_window(df, wsz=4) -> torch.Tensor:\n",
    "    n = len(df)\n",
    "    for idx in range(0, n-wsz+1):\n",
    "        bch = df.values[idx:idx+wsz]\n",
    "        yield torch.Tensor(bch)"
   ]
  },
  {
   "cell_type": "code",
   "execution_count": 17,
   "metadata": {},
   "outputs": [],
   "source": [
    "# ti_debug = []\n",
    "# for bch in generate_window(df, wsz=4):\n",
    "#     t0 = bch[-1, -1]  # last of seq should be used as current\n",
    "#     ti_debug.append(t0.item())\n",
    "# ti_debug = numpy.array(ti_debug)\n"
   ]
  },
  {
   "cell_type": "code",
   "execution_count": 18,
   "metadata": {},
   "outputs": [
    {
     "output_type": "execute_result",
     "data": {
      "text/plain": [
       "            date_index\n",
       "0  1451606400000000000\n",
       "1  1451692800000000000\n",
       "2  1451779200000000000"
      ],
      "text/html": "<div>\n<style scoped>\n    .dataframe tbody tr th:only-of-type {\n        vertical-align: middle;\n    }\n\n    .dataframe tbody tr th {\n        vertical-align: top;\n    }\n\n    .dataframe thead th {\n        text-align: right;\n    }\n</style>\n<table border=\"1\" class=\"dataframe\">\n  <thead>\n    <tr style=\"text-align: right;\">\n      <th></th>\n      <th>date_index</th>\n    </tr>\n  </thead>\n  <tbody>\n    <tr>\n      <th>0</th>\n      <td>1451606400000000000</td>\n    </tr>\n    <tr>\n      <th>1</th>\n      <td>1451692800000000000</td>\n    </tr>\n    <tr>\n      <th>2</th>\n      <td>1451779200000000000</td>\n    </tr>\n  </tbody>\n</table>\n</div>"
     },
     "metadata": {},
     "execution_count": 18
    }
   ],
   "source": [
    "df.head(3)"
   ]
  },
  {
   "cell_type": "code",
   "execution_count": 22,
   "metadata": {
    "tags": []
   },
   "outputs": [
    {
     "output_type": "execute_result",
     "data": {
      "text/plain": [
       "array([1.45186566e+18, 1.45195197e+18, 1.45203842e+18, ...,\n",
       "       1.54604158e+18, 1.54612803e+18, 1.54621434e+18])"
      ]
     },
     "metadata": {},
     "execution_count": 22
    }
   ],
   "source": [
    "ti_debug = []\n",
    "for bch in generate_window(df, wsz=4):\n",
    "    t = bch[-1, -1]  # last of seq should be used as current\n",
    "    ti_debug.append(t.item())\n",
    "ti_debug = numpy.array(ti_debug)\n",
    "ti_debug\n",
    "\n",
    "\n"
   ]
  },
  {
   "cell_type": "code",
   "execution_count": 26,
   "metadata": {},
   "outputs": [
    {
     "output_type": "execute_result",
     "data": {
      "text/plain": [
       "DatetimeIndex(['2016-01-04 00:00:59.498561536',\n",
       "               '2016-01-04 23:59:31.161341952',\n",
       "               '2016-01-06 00:00:20.263075840',\n",
       "               '2016-01-06 23:58:51.925856256',\n",
       "               '2016-01-07 23:59:41.027590144',\n",
       "               '2016-01-09 00:00:30.129324032',\n",
       "               '2016-01-09 23:59:01.792104448',\n",
       "               '2016-01-10 23:59:50.893838336',\n",
       "               '2016-01-12 00:00:39.995572224',\n",
       "               '2016-01-12 23:59:11.658352640'],\n",
       "              dtype='datetime64[ns]', freq=None)"
      ]
     },
     "metadata": {},
     "execution_count": 26
    }
   ],
   "source": [
    "pandas.to_datetime(ti_debug)[:10]"
   ]
  },
  {
   "cell_type": "code",
   "execution_count": 30,
   "metadata": {},
   "outputs": [
    {
     "output_type": "execute_result",
     "data": {
      "text/plain": [
       "0   2016-01-01\n",
       "1   2016-01-02\n",
       "2   2016-01-03\n",
       "3   2016-01-04\n",
       "4   2016-01-05\n",
       "5   2016-01-06\n",
       "6   2016-01-07\n",
       "7   2016-01-08\n",
       "8   2016-01-09\n",
       "9   2016-01-10\n",
       "Name: date_index, dtype: datetime64[ns]"
      ]
     },
     "metadata": {},
     "execution_count": 30
    }
   ],
   "source": [
    "pandas.to_datetime(df.date_index)[:10]"
   ]
  },
  {
   "cell_type": "code",
   "execution_count": 31,
   "metadata": {},
   "outputs": [
    {
     "output_type": "execute_result",
     "data": {
      "text/plain": [
       "DatetimeIndex(['2016-01-01 00:00:49.632313344',\n",
       "               '2016-01-01 23:59:21.295093760',\n",
       "               '2016-01-03 00:00:10.396827648',\n",
       "               '2016-01-04 00:00:59.498561536',\n",
       "               '2016-01-04 23:59:31.161341952',\n",
       "               '2016-01-06 00:00:20.263075840',\n",
       "               '2016-01-06 23:58:51.925856256',\n",
       "               '2016-01-07 23:59:41.027590144',\n",
       "               '2016-01-09 00:00:30.129324032',\n",
       "               '2016-01-09 23:59:01.792104448'],\n",
       "              dtype='datetime64[ns]', freq=None)"
      ]
     },
     "metadata": {},
     "execution_count": 31
    }
   ],
   "source": [
    "pandas.to_datetime(torch.Tensor(df.date_index))[:10]"
   ]
  },
  {
   "cell_type": "code",
   "execution_count": null,
   "metadata": {},
   "outputs": [],
   "source": [
    "import datetime\n",
    "\n",
    "def adjust_to(ts):\n",
    "    dte = ts.to_pydatetime()\n",
    "    dte += datetime.timedelta(hours=1)\n",
    "    return datetime.datetime(year=dte.year, month=dte.month, day=dte.day, hour=0, minute=0, second=0)\n",
    "\n",
    "\n",
    "def to_date(ti: numpy.array):\n",
    "    _ti = pandas.to_datetime(ti)\n",
    "    ti_ser = pandas.Series(_ti, name=\"time_index\")\n",
    "    return ti_ser.apply(adjust_to)\n",
    "\n",
    "ti_ser = to_date(ti_debug)\n",
    "ti_ser.head()\n"
   ]
  },
  {
   "cell_type": "code",
   "execution_count": 10,
   "metadata": {},
   "outputs": [],
   "source": [
    "# df.drop(\"date_index\", axis=1, inplace=True)\n",
    "# df.head(3)"
   ]
  },
  {
   "cell_type": "code",
   "execution_count": null,
   "metadata": {},
   "outputs": [],
   "source": []
  },
  {
   "cell_type": "code",
   "execution_count": null,
   "metadata": {},
   "outputs": [],
   "source": []
  },
  {
   "cell_type": "code",
   "execution_count": 11,
   "metadata": {},
   "outputs": [
    {
     "output_type": "execute_result",
     "data": {
      "text/plain": [
       "1234567812345678901"
      ]
     },
     "metadata": {},
     "execution_count": 11
    }
   ],
   "source": [
    "1451779200000000000\n",
    "1234567812345678901"
   ]
  },
  {
   "cell_type": "code",
   "execution_count": null,
   "metadata": {},
   "outputs": [],
   "source": []
  },
  {
   "cell_type": "code",
   "execution_count": null,
   "metadata": {},
   "outputs": [],
   "source": []
  },
  {
   "cell_type": "code",
   "execution_count": null,
   "metadata": {},
   "outputs": [],
   "source": []
  },
  {
   "cell_type": "code",
   "execution_count": null,
   "metadata": {},
   "outputs": [],
   "source": []
  },
  {
   "cell_type": "code",
   "execution_count": null,
   "metadata": {},
   "outputs": [],
   "source": []
  },
  {
   "cell_type": "code",
   "execution_count": 12,
   "metadata": {},
   "outputs": [
    {
     "output_type": "execute_result",
     "data": {
      "text/plain": [
       "DatetimeIndex(['2016-01-01', '2016-01-02', '2016-01-03', '2016-01-04',\n",
       "               '2016-01-05', '2016-01-06', '2016-01-07', '2016-01-08',\n",
       "               '2016-01-09', '2016-01-10',\n",
       "               ...\n",
       "               '2018-12-22', '2018-12-23', '2018-12-24', '2018-12-25',\n",
       "               '2018-12-26', '2018-12-27', '2018-12-28', '2018-12-29',\n",
       "               '2018-12-30', '2018-12-31'],\n",
       "              dtype='datetime64[ns]', length=1096, freq='D')"
      ]
     },
     "metadata": {},
     "execution_count": 12
    }
   ],
   "source": [
    "d = pandas.date_range(\"2016-01-01\", \"2018-12-31\")\n",
    "d"
   ]
  },
  {
   "cell_type": "code",
   "execution_count": 13,
   "metadata": {},
   "outputs": [
    {
     "output_type": "execute_result",
     "data": {
      "text/plain": [
       "Int64Index([1451606400000000000, 1451692800000000000, 1451779200000000000,\n",
       "            1451865600000000000, 1451952000000000000, 1452038400000000000,\n",
       "            1452124800000000000, 1452211200000000000, 1452297600000000000,\n",
       "            1452384000000000000,\n",
       "            ...\n",
       "            1545436800000000000, 1545523200000000000, 1545609600000000000,\n",
       "            1545696000000000000, 1545782400000000000, 1545868800000000000,\n",
       "            1545955200000000000, 1546041600000000000, 1546128000000000000,\n",
       "            1546214400000000000],\n",
       "           dtype='int64', length=1096)"
      ]
     },
     "metadata": {},
     "execution_count": 13
    }
   ],
   "source": [
    "d.astype(numpy.int64)"
   ]
  },
  {
   "cell_type": "code",
   "execution_count": null,
   "metadata": {},
   "outputs": [],
   "source": []
  },
  {
   "cell_type": "code",
   "execution_count": null,
   "metadata": {},
   "outputs": [],
   "source": []
  },
  {
   "cell_type": "code",
   "execution_count": null,
   "metadata": {},
   "outputs": [],
   "source": []
  }
 ]
}